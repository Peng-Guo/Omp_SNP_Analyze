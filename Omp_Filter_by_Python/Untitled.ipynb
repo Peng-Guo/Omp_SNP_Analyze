{
 "cells": [
  {
   "cell_type": "code",
   "execution_count": 28,
   "id": "31aff479-d008-4876-ba4f-940afb79253d",
   "metadata": {},
   "outputs": [],
   "source": [
    "import pandas as pd\n",
    "\n",
    "df = pd.read_csv(\"diamond_output.txt\", sep='\\t', \n",
    "                 names=[\"qseqid\",\"sseqid\",\"pident\",\"length\",\"mismatch\",\"gapopen\",\"qstart\",\"qend\",\"sstart\",\"send\",\"evalue\",\"bitscore\"])"
   ]
  },
  {
   "cell_type": "code",
   "execution_count": 29,
   "id": "6453d2d1-900e-4ec8-ac4c-b9ed0219bae6",
   "metadata": {},
   "outputs": [
    {
     "name": "stdout",
     "output_type": "stream",
     "text": [
      "523807\n"
     ]
    },
    {
     "data": {
      "text/html": [
       "<div>\n",
       "<style scoped>\n",
       "    .dataframe tbody tr th:only-of-type {\n",
       "        vertical-align: middle;\n",
       "    }\n",
       "\n",
       "    .dataframe tbody tr th {\n",
       "        vertical-align: top;\n",
       "    }\n",
       "\n",
       "    .dataframe thead th {\n",
       "        text-align: right;\n",
       "    }\n",
       "</style>\n",
       "<table border=\"1\" class=\"dataframe\">\n",
       "  <thead>\n",
       "    <tr style=\"text-align: right;\">\n",
       "      <th></th>\n",
       "      <th>qseqid</th>\n",
       "      <th>sseqid</th>\n",
       "      <th>pident</th>\n",
       "      <th>length</th>\n",
       "      <th>mismatch</th>\n",
       "      <th>gapopen</th>\n",
       "      <th>qstart</th>\n",
       "      <th>qend</th>\n",
       "      <th>sstart</th>\n",
       "      <th>send</th>\n",
       "      <th>evalue</th>\n",
       "      <th>bitscore</th>\n",
       "    </tr>\n",
       "  </thead>\n",
       "  <tbody>\n",
       "    <tr>\n",
       "      <th>0</th>\n",
       "      <td>NC_000913.3_234</td>\n",
       "      <td>sp|P02931|OMPF_ECOLI</td>\n",
       "      <td>60.2</td>\n",
       "      <td>364</td>\n",
       "      <td>129</td>\n",
       "      <td>5</td>\n",
       "      <td>1</td>\n",
       "      <td>351</td>\n",
       "      <td>2</td>\n",
       "      <td>362</td>\n",
       "      <td>1.200000e-126</td>\n",
       "      <td>436.8</td>\n",
       "    </tr>\n",
       "    <tr>\n",
       "      <th>1</th>\n",
       "      <td>NC_000913.3_234</td>\n",
       "      <td>sp|P06996|OMPC_ECOLI</td>\n",
       "      <td>58.3</td>\n",
       "      <td>372</td>\n",
       "      <td>129</td>\n",
       "      <td>9</td>\n",
       "      <td>1</td>\n",
       "      <td>351</td>\n",
       "      <td>1</td>\n",
       "      <td>367</td>\n",
       "      <td>5.300000e-122</td>\n",
       "      <td>421.4</td>\n",
       "    </tr>\n",
       "    <tr>\n",
       "      <th>2</th>\n",
       "      <td>NC_000913.3_542</td>\n",
       "      <td>sp|P06996|OMPC_ECOLI</td>\n",
       "      <td>59.2</td>\n",
       "      <td>353</td>\n",
       "      <td>124</td>\n",
       "      <td>5</td>\n",
       "      <td>8</td>\n",
       "      <td>348</td>\n",
       "      <td>6</td>\n",
       "      <td>350</td>\n",
       "      <td>1.600000e-113</td>\n",
       "      <td>393.3</td>\n",
       "    </tr>\n",
       "    <tr>\n",
       "      <th>3</th>\n",
       "      <td>NC_000913.3_542</td>\n",
       "      <td>sp|P02931|OMPF_ECOLI</td>\n",
       "      <td>53.1</td>\n",
       "      <td>358</td>\n",
       "      <td>147</td>\n",
       "      <td>6</td>\n",
       "      <td>8</td>\n",
       "      <td>354</td>\n",
       "      <td>7</td>\n",
       "      <td>354</td>\n",
       "      <td>2.000000e-100</td>\n",
       "      <td>349.7</td>\n",
       "    </tr>\n",
       "    <tr>\n",
       "      <th>4</th>\n",
       "      <td>NC_000913.3_905</td>\n",
       "      <td>sp|P02931|OMPF_ECOLI</td>\n",
       "      <td>100.0</td>\n",
       "      <td>362</td>\n",
       "      <td>0</td>\n",
       "      <td>0</td>\n",
       "      <td>1</td>\n",
       "      <td>362</td>\n",
       "      <td>1</td>\n",
       "      <td>362</td>\n",
       "      <td>2.500000e-215</td>\n",
       "      <td>731.5</td>\n",
       "    </tr>\n",
       "  </tbody>\n",
       "</table>\n",
       "</div>"
      ],
      "text/plain": [
       "            qseqid                sseqid  pident  length  mismatch  gapopen  \\\n",
       "0  NC_000913.3_234  sp|P02931|OMPF_ECOLI    60.2     364       129        5   \n",
       "1  NC_000913.3_234  sp|P06996|OMPC_ECOLI    58.3     372       129        9   \n",
       "2  NC_000913.3_542  sp|P06996|OMPC_ECOLI    59.2     353       124        5   \n",
       "3  NC_000913.3_542  sp|P02931|OMPF_ECOLI    53.1     358       147        6   \n",
       "4  NC_000913.3_905  sp|P02931|OMPF_ECOLI   100.0     362         0        0   \n",
       "\n",
       "   qstart  qend  sstart  send         evalue  bitscore  \n",
       "0       1   351       2   362  1.200000e-126     436.8  \n",
       "1       1   351       1   367  5.300000e-122     421.4  \n",
       "2       8   348       6   350  1.600000e-113     393.3  \n",
       "3       8   354       7   354  2.000000e-100     349.7  \n",
       "4       1   362       1   362  2.500000e-215     731.5  "
      ]
     },
     "execution_count": 29,
     "metadata": {},
     "output_type": "execute_result"
    }
   ],
   "source": [
    "print(len(df))\n",
    "df.head()"
   ]
  },
  {
   "cell_type": "code",
   "execution_count": 30,
   "id": "23f4d986-4da6-4418-938b-2e8350e2d0bb",
   "metadata": {},
   "outputs": [
    {
     "name": "stdout",
     "output_type": "stream",
     "text": [
      "ALL:  45899\n"
     ]
    },
    {
     "data": {
      "text/plain": [
       "sp|P0A910|OMPA_ECOLI    21572\n",
       "sp|P02931|OMPF_ECOLI    14894\n",
       "sp|P06996|OMPC_ECOLI     9433\n",
       "Name: sseqid, dtype: int64"
      ]
     },
     "execution_count": 30,
     "metadata": {},
     "output_type": "execute_result"
    }
   ],
   "source": [
    "df2 = df[(95 <= df['pident']) & (df['pident'] < 100)]\n",
    "print(\"ALL: \", len(df2))\n",
    "df2['sseqid'].value_counts()"
   ]
  },
  {
   "cell_type": "code",
   "execution_count": 31,
   "id": "678427dd-87ba-4658-84b5-c87c765ee68a",
   "metadata": {},
   "outputs": [
    {
     "name": "stdout",
     "output_type": "stream",
     "text": [
      "ALL:  44918\n"
     ]
    },
    {
     "name": "stderr",
     "output_type": "stream",
     "text": [
      "/var/folders/3t/ym77jd5d0139yhwwqbjxkp6w0000gn/T/ipykernel_15333/3338962917.py:2: FutureWarning: The default value of regex will change from True to False in a future version.\n",
      "  df3['sseqid'] = df3['sseqid'].str.replace('sp\\|P0A910\\|OMPA_ECOLI', '346').str.replace('sp\\|P06996\\|OMPC_ECOLI', '367').str.replace('sp\\|P02931\\|OMPF_ECOLI', '362')\n"
     ]
    },
    {
     "data": {
      "text/plain": [
       "346    21497\n",
       "362    14180\n",
       "367     9241\n",
       "Name: sseqid, dtype: int64"
      ]
     },
     "execution_count": 31,
     "metadata": {},
     "output_type": "execute_result"
    }
   ],
   "source": [
    "df3 = df2.copy()\n",
    "df3['sseqid'] = df3['sseqid'].str.replace('sp\\|P0A910\\|OMPA_ECOLI', '346').str.replace('sp\\|P06996\\|OMPC_ECOLI', '367').str.replace('sp\\|P02931\\|OMPF_ECOLI', '362')\n",
    "df3['sseqid'] = df3['sseqid'].astype(int)\n",
    "df4 = df3[df3['length']/df3['sseqid'] > 0.85 ]\n",
    "\n",
    "print(\"ALL: \", len(df4))\n",
    "df4['sseqid'].value_counts()"
   ]
  },
  {
   "cell_type": "code",
   "execution_count": 32,
   "id": "d2729d92-9564-478c-b88a-ffbc87422ec2",
   "metadata": {},
   "outputs": [],
   "source": [
    "df_ompa = df4[df4['sseqid'] == 346]\n",
    "df_ompc = df4[df4['sseqid'] == 367]\n",
    "df_ompf = df4[df4['sseqid'] == 362]"
   ]
  },
  {
   "cell_type": "code",
   "execution_count": 33,
   "id": "19acd63e-fa49-4cf5-aa42-25dca4bac92a",
   "metadata": {},
   "outputs": [],
   "source": [
    "df_ompa.to_csv('ompa_list.txt', columns=['qseqid'], header=False, index=False)\n",
    "df_ompc.to_csv('ompc_list.txt', columns=['qseqid'], header=False, index=False)\n",
    "df_ompf.to_csv('ompf_list.txt', columns=['qseqid'], header=False, index=False)"
   ]
  },
  {
   "cell_type": "code",
   "execution_count": null,
   "id": "996ace86-71a3-40c9-82cd-8d742fc7ff3b",
   "metadata": {},
   "outputs": [],
   "source": []
  }
 ],
 "metadata": {
  "kernelspec": {
   "display_name": "Python 3 (ipykernel)",
   "language": "python",
   "name": "python3"
  },
  "language_info": {
   "codemirror_mode": {
    "name": "ipython",
    "version": 3
   },
   "file_extension": ".py",
   "mimetype": "text/x-python",
   "name": "python",
   "nbconvert_exporter": "python",
   "pygments_lexer": "ipython3",
   "version": "3.10.5"
  }
 },
 "nbformat": 4,
 "nbformat_minor": 5
}
